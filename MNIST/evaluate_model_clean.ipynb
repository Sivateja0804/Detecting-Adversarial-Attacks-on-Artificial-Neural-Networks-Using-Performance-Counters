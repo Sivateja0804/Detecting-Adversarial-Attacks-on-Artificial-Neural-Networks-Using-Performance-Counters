{
 "cells": [
  {
   "cell_type": "code",
   "execution_count": 1,
   "metadata": {},
   "outputs": [
    {
     "name": "stdout",
     "output_type": "stream",
     "text": [
      "Accuracy for clean inputs>  0.9923\n",
      "Loss for clean inputs>  0.026688313717786512\n"
     ]
    }
   ],
   "source": [
    "from tensorflow.keras.models import load_model\n",
    "from tensorflow.keras.utils import to_categorical\n",
    "import numpy as np\n",
    "from numpy import save\n",
    "from numpy import asarray\n",
    "from numpy import load\n",
    "\n",
    "# run the test harness for evaluating adversarial model\n",
    "def run_test_harness():\n",
    "        # load adversarial dataset\n",
    "        testX = load('clean_test_images.npy')\n",
    "        testY = load('clean_test_labels.npy')\n",
    "        model = load_model('final_model_adv.h5')\n",
    "        # evaluate model on adversarial test dataset\n",
    "        loss, acc = model.evaluate(testX, testY, verbose=0)\n",
    "        print('Accuracy for clean inputs> ',acc)\n",
    "        print('Loss for clean inputs> ',loss)\n",
    "\n",
    "# entry point, run the test harness\n",
    "run_test_harness()"
   ]
  },
  {
   "cell_type": "code",
   "execution_count": null,
   "metadata": {},
   "outputs": [],
   "source": []
  }
 ],
 "metadata": {
  "kernelspec": {
   "display_name": "Python 3",
   "language": "python",
   "name": "python3"
  },
  "language_info": {
   "codemirror_mode": {
    "name": "ipython",
    "version": 3
   },
   "file_extension": ".py",
   "mimetype": "text/x-python",
   "name": "python",
   "nbconvert_exporter": "python",
   "pygments_lexer": "ipython3",
   "version": "3.6.9"
  }
 },
 "nbformat": 4,
 "nbformat_minor": 4
}
