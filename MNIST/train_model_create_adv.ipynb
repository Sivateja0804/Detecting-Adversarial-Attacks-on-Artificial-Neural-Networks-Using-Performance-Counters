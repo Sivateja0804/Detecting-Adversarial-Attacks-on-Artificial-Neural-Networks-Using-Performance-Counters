{
 "cells": [
  {
   "cell_type": "code",
   "execution_count": 1,
   "metadata": {},
   "outputs": [],
   "source": [
    "import tensorflow as tf\n",
    "\n",
    "from tensorflow.keras.datasets import mnist, cifar10, cifar100\n",
    "\n",
    "from tensorflow.keras import Sequential\n",
    "from tensorflow.keras.callbacks import LambdaCallback\n",
    "from tensorflow.keras.layers import Conv2D, MaxPooling2D, Dropout, Dense, Flatten, Activation\n",
    "from tensorflow.keras.optimizers import SGD\n",
    "import numpy as np\n",
    "from numpy import save\n",
    "from numpy import asarray\n",
    "from numpy import load\n",
    "import random\n",
    "\n",
    "import matplotlib.pyplot as plt"
   ]
  },
  {
   "cell_type": "code",
   "execution_count": 2,
   "metadata": {},
   "outputs": [],
   "source": [
    "(x_train, y_train), (x_test, y_test) = mnist.load_data()\n",
    "labels = ['zero', 'one', 'two', 'three', 'four', 'five', 'six', 'seven', 'eight', 'nine']"
   ]
  },
  {
   "cell_type": "code",
   "execution_count": 3,
   "metadata": {},
   "outputs": [
    {
     "name": "stdout",
     "output_type": "stream",
     "text": [
      "Data shapes (10000, 28, 28, 1) (10000, 10) (60000, 28, 28, 1) (60000, 10)\n"
     ]
    }
   ],
   "source": [
    "img_rows, img_cols, channels = 28, 28, 1\n",
    "num_classes = 10\n",
    "\n",
    "x_train = x_train.reshape((x_train.shape[0], img_rows, img_cols, channels))\n",
    "x_test = x_test.reshape((x_test.shape[0], img_rows, img_cols, channels))\n",
    "\n",
    "y_train = tf.keras.utils.to_categorical(y_train)\n",
    "y_test = tf.keras.utils.to_categorical(y_test)\n",
    "\n",
    "x_train = x_train.astype('float32')\n",
    "x_test = x_test.astype('float32')\n",
    "\n",
    "x_train = x_train / 255.0\n",
    "x_test = x_test / 255.0\n",
    "\n",
    "print(\"Data shapes\", x_test.shape, y_test.shape, x_train.shape, y_train.shape)"
   ]
  },
  {
   "cell_type": "code",
   "execution_count": 4,
   "metadata": {},
   "outputs": [],
   "source": [
    "def create_model():\n",
    "        model = Sequential()\n",
    "        model.add(Conv2D(32, (3, 3), padding='same', input_shape=(img_rows, img_cols, channels), activation='relu'))\n",
    "        model.add(Conv2D(32, (3, 3), activation='relu'))\n",
    "        model.add(MaxPooling2D(pool_size=(2, 2)))\n",
    "        model.add(Dropout(0.2))\n",
    "        model.add(Conv2D(64, (3, 3), padding='same', activation='relu'))\n",
    "        model.add(Conv2D(64, (3, 3), activation='relu'))\n",
    "        model.add(MaxPooling2D(pool_size=(2, 2)))\n",
    "        model.add(Dropout(0.2))\n",
    "        model.add(Conv2D(128, (3, 3), padding='same', activation='relu'))\n",
    "        model.add(Conv2D(128, (3, 3), activation='relu'))\n",
    "        model.add(MaxPooling2D(pool_size=(2, 2)))\n",
    "        model.add(Dropout(0.2))\n",
    "        model.add(Flatten())\n",
    "        model.add(Dense(512, activation='relu'))\n",
    "        model.add(Dropout(0.5))\n",
    "        model.add(Dense(num_classes, activation='softmax'))\n",
    "        sgd = SGD(lr=0.001, decay=1e-6, momentum=0.9, nesterov=True)\n",
    "        model.compile(loss='categorical_crossentropy', optimizer=sgd, metrics=['accuracy'])\n",
    "#     model = Sequential()\n",
    "#     model.add(Conv2D(32, kernel_size=(3, 3), strides=(3, 3), padding='same', activation='relu', input_shape=(img_rows, img_cols, channels)))\n",
    "#     model.add(Conv2D(64, kernel_size=(3, 3), strides=(3, 3), padding='same', activation='relu'))\n",
    "#     model.add(Conv2D(64, kernel_size=(3, 3), strides=(3, 3), padding='same', activation='relu'))\n",
    "#     model.add(MaxPooling2D(pool_size=(2, 2)))\n",
    "#     model.add(Dropout(0.2))\n",
    "#     model.add(Flatten())\n",
    "#     model.add(Dense(32))\n",
    "#     model.add(Dropout(0.2))\n",
    "#     model.add(Dense(32))\n",
    "#     model.add(Dropout(0.2))\n",
    "#     model.add(Dense(num_classes, activation='softmax'))\n",
    "#     model.compile(optimizer='adam', loss='categorical_crossentropy', metrics=['accuracy'])\n",
    "        return model\n",
    "\n",
    "model = create_model()"
   ]
  },
  {
   "cell_type": "code",
   "execution_count": 5,
   "metadata": {
    "scrolled": true
   },
   "outputs": [
    {
     "name": "stdout",
     "output_type": "stream",
     "text": [
      "Train on 60000 samples, validate on 10000 samples\n",
      "Epoch 1/10\n",
      "60000/60000 [==============================] - 24s 407us/sample - loss: 1.3176 - accuracy: 0.5378 - val_loss: 0.1951 - val_accuracy: 0.9393\n",
      "Epoch 2/10\n",
      "60000/60000 [==============================] - 35s 578us/sample - loss: 0.2309 - accuracy: 0.9294 - val_loss: 0.0898 - val_accuracy: 0.9725\n",
      "Epoch 3/10\n",
      "60000/60000 [==============================] - 39s 654us/sample - loss: 0.1422 - accuracy: 0.9571 - val_loss: 0.0631 - val_accuracy: 0.9795\n",
      "Epoch 4/10\n",
      "60000/60000 [==============================] - 39s 655us/sample - loss: 0.1113 - accuracy: 0.9666 - val_loss: 0.0475 - val_accuracy: 0.9849\n",
      "Epoch 5/10\n",
      "60000/60000 [==============================] - 39s 651us/sample - loss: 0.0907 - accuracy: 0.9730 - val_loss: 0.0396 - val_accuracy: 0.9877\n",
      "Epoch 6/10\n",
      "60000/60000 [==============================] - 39s 657us/sample - loss: 0.0783 - accuracy: 0.9763 - val_loss: 0.0349 - val_accuracy: 0.9891\n",
      "Epoch 7/10\n",
      "60000/60000 [==============================] - 39s 656us/sample - loss: 0.0708 - accuracy: 0.9787 - val_loss: 0.0316 - val_accuracy: 0.9894\n",
      "Epoch 8/10\n",
      "60000/60000 [==============================] - 40s 659us/sample - loss: 0.0634 - accuracy: 0.9816 - val_loss: 0.0308 - val_accuracy: 0.9890\n",
      "Epoch 9/10\n",
      "60000/60000 [==============================] - 39s 652us/sample - loss: 0.0580 - accuracy: 0.9818 - val_loss: 0.0274 - val_accuracy: 0.9903\n",
      "Epoch 10/10\n",
      "60000/60000 [==============================] - 54s 905us/sample - loss: 0.0553 - accuracy: 0.9835 - val_loss: 0.0240 - val_accuracy: 0.9924\n"
     ]
    },
    {
     "data": {
      "text/plain": [
       "<tensorflow.python.keras.callbacks.History at 0x7fcdd804f0b8>"
      ]
     },
     "execution_count": 5,
     "metadata": {},
     "output_type": "execute_result"
    }
   ],
   "source": [
    "model.fit(x_train, y_train,\n",
    "          batch_size=32,\n",
    "          epochs=10,\n",
    "          validation_data=(x_test, y_test))"
   ]
  },
  {
   "cell_type": "code",
   "execution_count": 6,
   "metadata": {},
   "outputs": [
    {
     "name": "stdout",
     "output_type": "stream",
     "text": [
      "Train on 60000 samples, validate on 10000 samples\n",
      "Epoch 1/10\n",
      "60000/60000 [==============================] - 54s 906us/sample - loss: 1.3823 - accuracy: 0.5194 - val_loss: 0.1868 - val_accuracy: 0.9418\n",
      "Epoch 2/10\n",
      "60000/60000 [==============================] - 54s 900us/sample - loss: 0.2368 - accuracy: 0.9279 - val_loss: 0.0894 - val_accuracy: 0.9702\n",
      "Epoch 3/10\n",
      "60000/60000 [==============================] - 53s 878us/sample - loss: 0.1493 - accuracy: 0.9558 - val_loss: 0.0704 - val_accuracy: 0.9778\n",
      "Epoch 4/10\n",
      "60000/60000 [==============================] - 54s 902us/sample - loss: 0.1125 - accuracy: 0.9659 - val_loss: 0.0515 - val_accuracy: 0.9839\n",
      "Epoch 5/10\n",
      "60000/60000 [==============================] - 53s 884us/sample - loss: 0.0958 - accuracy: 0.9719 - val_loss: 0.0458 - val_accuracy: 0.9845\n",
      "Epoch 6/10\n",
      "60000/60000 [==============================] - 54s 902us/sample - loss: 0.0807 - accuracy: 0.9757 - val_loss: 0.0384 - val_accuracy: 0.9875\n",
      "Epoch 7/10\n",
      "60000/60000 [==============================] - 53s 889us/sample - loss: 0.0712 - accuracy: 0.9791 - val_loss: 0.0322 - val_accuracy: 0.9894\n",
      "Epoch 8/10\n",
      "60000/60000 [==============================] - 54s 895us/sample - loss: 0.0634 - accuracy: 0.9807 - val_loss: 0.0305 - val_accuracy: 0.9899\n",
      "Epoch 9/10\n",
      "60000/60000 [==============================] - 53s 884us/sample - loss: 0.0587 - accuracy: 0.9820 - val_loss: 0.0277 - val_accuracy: 0.9903\n",
      "Epoch 10/10\n",
      "60000/60000 [==============================] - 54s 902us/sample - loss: 0.0532 - accuracy: 0.9839 - val_loss: 0.0293 - val_accuracy: 0.9911\n"
     ]
    }
   ],
   "source": [
    "m1=tf.keras.models.clone_model(model)\n",
    "sgd = SGD(lr=0.001, decay=1e-6, momentum=0.9, nesterov=True)\n",
    "m1.compile(loss='categorical_crossentropy', optimizer=sgd, metrics=['accuracy'])\n",
    "# m1.compile(optimizer='adam', loss='categorical_crossentropy', metrics=['accuracy'])\n",
    "m1.fit(x_train, y_train,\n",
    "          batch_size=32,\n",
    "          epochs=10,\n",
    "          validation_data=(x_test, y_test))\n",
    "m1.save('final_model_clean.h5')\n"
   ]
  },
  {
   "cell_type": "code",
   "execution_count": 7,
   "metadata": {
    "scrolled": false
   },
   "outputs": [
    {
     "name": "stdout",
     "output_type": "stream",
     "text": [
      "Base accuracy on regular images: 0.9924\n",
      "Base loss on regular images: 0.024030854113490204\n"
     ]
    }
   ],
   "source": [
    "loss, acc = model.evaluate(x_test, y_test, verbose=0)\n",
    "print(\"Base accuracy on regular images:\", acc)\n",
    "print(\"Base loss on regular images:\", loss)"
   ]
  },
  {
   "cell_type": "code",
   "execution_count": 8,
   "metadata": {},
   "outputs": [],
   "source": [
    "def adversarial_pattern(image, label):\n",
    "    image = tf.cast(image, tf.float32)\n",
    "    \n",
    "    with tf.GradientTape() as tape:\n",
    "        tape.watch(image)\n",
    "        prediction = model(image)\n",
    "        loss = tf.keras.losses.categorical_crossentropy(label, prediction)\n",
    "    \n",
    "    gradient = tape.gradient(loss, image)\n",
    "    \n",
    "    signed_grad = tf.sign(gradient)\n",
    "    \n",
    "    return signed_grad"
   ]
  },
  {
   "cell_type": "code",
   "execution_count": 9,
   "metadata": {},
   "outputs": [
    {
     "data": {
      "image/png": "[encoded data removed]",
      "text/plain": [
       "<Figure size 432x288 with 1 Axes>"
      ]
     },
     "metadata": {
      "needs_background": "light"
     },
     "output_type": "display_data"
    }
   ],
   "source": [
    "image = x_train[0]\n",
    "image_label = y_train[0]\n",
    "perturbations = adversarial_pattern(image.reshape((1, img_rows, img_cols, channels)), image_label).numpy()\n",
    "adversarial = image + perturbations * 0.2\n",
    "if channels == 1:\n",
    "    plt.imshow(adversarial.reshape((img_rows, img_cols)))\n",
    "else:\n",
    "    plt.imshow(adversarial.reshape((img_rows, img_cols, channels)))\n",
    "plt.show()"
   ]
  },
  {
   "cell_type": "code",
   "execution_count": 10,
   "metadata": {},
   "outputs": [],
   "source": [
    "# print(labels[model.predict(image.reshape((1, img_rows, img_cols, channels))).argmax()])\n",
    "# print(labels[model.predict(adversarial).argmax()])"
   ]
  },
  {
   "cell_type": "code",
   "execution_count": 11,
   "metadata": {},
   "outputs": [],
   "source": [
    "\n",
    "def generate_adversarials(batch_size):\n",
    "    while True:\n",
    "        x = []\n",
    "        y = []\n",
    "        for batch in range(batch_size):\n",
    "            #N = random.randint(0, 100)\n",
    "\n",
    "            label = y_test[batch]\n",
    "            image = x_test[batch]\n",
    "            \n",
    "            perturbations = adversarial_pattern(image.reshape((1, img_rows, img_cols, channels)), label).numpy()\n",
    "            \n",
    "            \n",
    "            epsilon = 0.3\n",
    "            adversarial = image + perturbations * epsilon\n",
    "            \n",
    "            x.append(adversarial)\n",
    "            y.append(y_test[batch])\n",
    "        \n",
    "        \n",
    "        x = np.asarray(x).reshape((batch_size, img_rows, img_cols, channels))\n",
    "        y = np.asarray(y)\n",
    "        \n",
    "        yield x, y"
   ]
  },
  {
   "cell_type": "code",
   "execution_count": 12,
   "metadata": {},
   "outputs": [],
   "source": [
    "x_adversarial_test, y_adversarial_test = next(generate_adversarials(10000))"
   ]
  },
  {
   "cell_type": "code",
   "execution_count": 13,
   "metadata": {},
   "outputs": [
    {
     "name": "stdout",
     "output_type": "stream",
     "text": [
      "Base accuracy on regular images: 0.9924\n",
      "Base loss on regular images: 0.024030854113490204\n",
      "Base accuracy on adversarial images: 0.1189\n",
      "Base loss on adversarial images: 4.465695142364502\n"
     ]
    }
   ],
   "source": [
    "loss1, acc1 = model.evaluate(x_test, y_test, verbose=0)\n",
    "print(\"Base accuracy on regular images:\", acc1)\n",
    "print(\"Base loss on regular images:\", loss1)\n",
    "loss2, acc2 = model.evaluate(x_adversarial_test, y_adversarial_test, verbose=0)\n",
    "print(\"Base accuracy on adversarial images:\",acc2)\n",
    "print('Base loss on adversarial images:', loss2)"
   ]
  },
  {
   "cell_type": "code",
   "execution_count": 14,
   "metadata": {},
   "outputs": [],
   "source": [
    "save('adversarial_test_images',x_adversarial_test)\n",
    "save('adversarial_test_labels',y_adversarial_test)\n",
    "save('clean_test_images',x_test)\n",
    "save('clean_test_labels',y_test)\n",
    "model.save('final_model_adv.h5')"
   ]
  }
 ],
 "metadata": {
  "kernelspec": {
   "display_name": "Python 3",
   "language": "python",
   "name": "python3"
  },
  "language_info": {
   "codemirror_mode": {
    "name": "ipython",
    "version": 3
   },
   "file_extension": ".py",
   "mimetype": "text/x-python",
   "name": "python",
   "nbconvert_exporter": "python",
   "pygments_lexer": "ipython3",
   "version": "3.6.9"
  }
 },
 "nbformat": 4,
 "nbformat_minor": 4
}
