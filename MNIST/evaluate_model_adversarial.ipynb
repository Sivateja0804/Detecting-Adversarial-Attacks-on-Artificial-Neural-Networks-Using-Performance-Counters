{
 "cells": [
  {
   "cell_type": "code",
   "execution_count": 2,
   "metadata": {},
   "outputs": [
    {
     "name": "stdout",
     "output_type": "stream",
     "text": [
      "Accuracy for adversarial inputs>  0.2433\n",
      "Loss for adversarial inputs>  3.645983082962036\n"
     ]
    }
   ],
   "source": [
    "from tensorflow.keras.models import load_model\n",
    "import numpy as np\n",
    "from numpy import save\n",
    "from numpy import asarray\n",
    "from numpy import load\n",
    "\n",
    "# run the test harness for evaluating adversarial model\n",
    "def run_test_harness():\n",
    "        # load adversarial dataset\n",
    "        adv_testX = load('adversarial_test_images.npy')\n",
    "        adv_testY = load('adversarial_test_labels.npy')\n",
    "        model1 = load_model('final_model_clean.h5')\n",
    "        # evaluate model on adversarial test dataset\n",
    "        loss, acc = model1.evaluate(adv_testX, adv_testY, verbose=0)\n",
    "        print('Accuracy for adversarial inputs> ',acc)\n",
    "        print('Loss for adversarial inputs> ',loss)\n",
    "\n",
    "# entry point, run the test harness\n",
    "run_test_harness()"
   ]
  },
  {
   "cell_type": "code",
   "execution_count": null,
   "metadata": {},
   "outputs": [],
   "source": []
  }
 ],
 "metadata": {
  "kernelspec": {
   "display_name": "Python 3",
   "language": "python",
   "name": "python3"
  },
  "language_info": {
   "codemirror_mode": {
    "name": "ipython",
    "version": 3
   },
   "file_extension": ".py",
   "mimetype": "text/x-python",
   "name": "python",
   "nbconvert_exporter": "python",
   "pygments_lexer": "ipython3",
   "version": "3.6.9"
  }
 },
 "nbformat": 4,
 "nbformat_minor": 4
}
